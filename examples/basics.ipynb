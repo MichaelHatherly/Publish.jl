{
 "cells": [
  {
   "cell_type": "markdown",
   "metadata": {},
   "source": [
    "# Example Jupyter Notebooks\n",
    "\n",
    "This page has been written as a Jupyter Notebook, which was introduced in the [Jupyter Notebooks](#) section of the manual. The notebooks provided in this package are just illustrative of how you can integrate notebooks into the rest of your project and still allow for cross references between different parts of the finished document.\n",
    "\n",
    "Let's load the required packages. We're using `Revise` as well since `Publish` integrates well with it and allows you to update your package `src/` contents, such as docstrings, and have the changes reflected in the document output immediately if you're using the [`serve`](#) function."
   ]
  },
  {
   "cell_type": "code",
   "execution_count": 2,
   "metadata": {},
   "outputs": [],
   "source": [
    "using Revise, Publish"
   ]
  },
  {
   "cell_type": "markdown",
   "metadata": {},
   "source": [
    "You can use [`html`](#) to do a one time build of the project:"
   ]
  },
  {
   "cell_type": "code",
   "execution_count": 6,
   "metadata": {},
   "outputs": [
    {
     "data": {
      "text/plain": [
       "Dict{String,Any} with 8 entries:\n",
       "  \"default_js\"  => [\"/home/mike/.julia/dev/Publish/src/templates/versions.js\", …\n",
       "  \"css\"         => [\"//cdnjs.cloudflare.com/ajax/libs/highlight.js/10.1.2/style…\n",
       "  \"footer\"      => \"footer content...\"\n",
       "  \"default_css\" => [\"/home/mike/.julia/dev/Publish/src/templates/normalize.css\"…\n",
       "  \"js\"          => Any[\"//cdnjs.cloudflare.com/ajax/libs/highlight.js/10.1.2/hi…\n",
       "  \"template\"    => Dict(\"file\"=>\"/home/mike/.julia/dev/Publish/src/templates/ht…\n",
       "  \"header\"      => \"<script>hljs.initHighlightingOnLoad();</script>\"\n",
       "  \"paths\"       => \"normal\""
      ]
     },
     "execution_count": 6,
     "metadata": {},
     "output_type": "execute_result"
    }
   ],
   "source": [
    "html(Publish)"
   ]
  },
  {
   "cell_type": "markdown",
   "metadata": {},
   "source": [
    "PDFs can be built using [`pdf`](#) in a similar way to [`html`](#) above:"
   ]
  },
  {
   "cell_type": "code",
   "execution_count": 5,
   "metadata": {},
   "outputs": [
    {
     "name": "stdout",
     "output_type": "stream",
     "text": [
      "\u001b[0m\u001b[1m\u001b[32mnote:\u001b[0m this is a BETA release; ask questions and report bugs at https://tectonic.newton.cx/\n",
      "Running \u001b[0m\u001b[1mTeX\u001b[0m ...\n"
     ]
    },
    {
     "name": "stderr",
     "output_type": "stream",
     "text": [
      "\u001b[0m\u001b[1m\u001b[33mwarning:\u001b[0m could not represent character \"✓\" (0x2713) in font \"[lmmono10-regular]:\"\n",
      "\u001b[0m\u001b[1m\u001b[33mwarning:\u001b[0m   you may need to load the `fontspec` package and use (e.g.) \\setmainfont to\n",
      "\u001b[0m\u001b[1m\u001b[33mwarning:\u001b[0m   choose a different font that covers the unrepresentable character(s)\n",
      "\u001b[0m\u001b[1m\u001b[33mwarning:\u001b[0m could not represent character \"✓\" (0x2713) in font \"[lmmono10-regular]:\"\n",
      "\u001b[0m\u001b[1m\u001b[33mwarning:\u001b[0m could not represent character \"✓\" (0x2713) in font \"[lmmono10-regular]:\"\n",
      "\u001b[0m\u001b[1m\u001b[33mwarning:\u001b[0m could not represent character \"✓\" (0x2713) in font \"[lmmono10-regular]:\"\n",
      "\u001b[0m\u001b[1m\u001b[33mwarning:\u001b[0m could not represent character \"✓\" (0x2713) in font \"[lmmono10-regular]:\"\n"
     ]
    },
    {
     "name": "stdout",
     "output_type": "stream",
     "text": [
      "Rerunning \u001b[0m\u001b[1mTeX\u001b[0m because \"Publish.aux\" changed ...\n"
     ]
    },
    {
     "name": "stderr",
     "output_type": "stream",
     "text": [
      "\u001b[0m\u001b[1m\u001b[33mwarning:\u001b[0m could not represent character \"✓\" (0x2713) in font \"[lmmono10-regular]:\"\n",
      "\u001b[0m\u001b[1m\u001b[33mwarning:\u001b[0m   you may need to load the `fontspec` package and use (e.g.) \\setmainfont to\n",
      "\u001b[0m\u001b[1m\u001b[33mwarning:\u001b[0m   choose a different font that covers the unrepresentable character(s)\n",
      "\u001b[0m\u001b[1m\u001b[33mwarning:\u001b[0m could not represent character \"✓\" (0x2713) in font \"[lmmono10-regular]:\"\n",
      "\u001b[0m\u001b[1m\u001b[33mwarning:\u001b[0m could not represent character \"✓\" (0x2713) in font \"[lmmono10-regular]:\"\n",
      "\u001b[0m\u001b[1m\u001b[33mwarning:\u001b[0m could not represent character \"✓\" (0x2713) in font \"[lmmono10-regular]:\"\n",
      "\u001b[0m\u001b[1m\u001b[33mwarning:\u001b[0m could not represent character \"✓\" (0x2713) in font \"[lmmono10-regular]:\"\n"
     ]
    },
    {
     "name": "stdout",
     "output_type": "stream",
     "text": [
      "Rerunning \u001b[0m\u001b[1mTeX\u001b[0m because \"Publish.aux\" changed ...\n"
     ]
    },
    {
     "name": "stderr",
     "output_type": "stream",
     "text": [
      "\u001b[0m\u001b[1m\u001b[33mwarning:\u001b[0m could not represent character \"✓\" (0x2713) in font \"[lmmono10-regular]:\"\n",
      "\u001b[0m\u001b[1m\u001b[33mwarning:\u001b[0m   you may need to load the `fontspec` package and use (e.g.) \\setmainfont to\n",
      "\u001b[0m\u001b[1m\u001b[33mwarning:\u001b[0m   choose a different font that covers the unrepresentable character(s)\n",
      "\u001b[0m\u001b[1m\u001b[33mwarning:\u001b[0m could not represent character \"✓\" (0x2713) in font \"[lmmono10-regular]:\"\n",
      "\u001b[0m\u001b[1m\u001b[33mwarning:\u001b[0m could not represent character \"✓\" (0x2713) in font \"[lmmono10-regular]:\"\n",
      "\u001b[0m\u001b[1m\u001b[33mwarning:\u001b[0m could not represent character \"✓\" (0x2713) in font \"[lmmono10-regular]:\"\n",
      "\u001b[0m\u001b[1m\u001b[33mwarning:\u001b[0m could not represent character \"✓\" (0x2713) in font \"[lmmono10-regular]:\"\n"
     ]
    },
    {
     "name": "stdout",
     "output_type": "stream",
     "text": [
      "Running \u001b[0m\u001b[1mxdvipdfmx\u001b[0m ...\n"
     ]
    },
    {
     "name": "stderr",
     "output_type": "stream",
     "text": [
      "\u001b[0m\u001b[1m\u001b[33mwarning:\u001b[0m warnings were issued by the TeX engine; use --print and/or --keep-logs for details.\n",
      "\u001b[0m\u001b[1m\u001b[33mwarning:\u001b[0m PDF destination \"serving-publish\" not defined.\n",
      "\u001b[0m\u001b[1m\u001b[33mwarning:\u001b[0m PDF destination \"attributes\" not defined.\n",
      "\u001b[0m\u001b[1m\u001b[33mwarning:\u001b[0m PDF destination \"table-of-contents\" not defined.\n",
      "\u001b[0m\u001b[1m\u001b[33mwarning:\u001b[0m PDF destination \"html-specific\" not defined.\n",
      "\u001b[0m\u001b[1m\u001b[33mwarning:\u001b[0m PDF destination \"step-two\" not defined.\n"
     ]
    },
    {
     "name": "stdout",
     "output_type": "stream",
     "text": [
      "Writing \u001b[0m\u001b[1m`Publish.pdf`\u001b[0m (125.41 KiB)\n",
      "Skipped writing \u001b[0m\u001b[1m18\u001b[0m intermediate files (use --keep-intermediates to keep them)\n"
     ]
    },
    {
     "data": {
      "text/plain": [
       "Process(`\u001b[4m/home/mike/.julia/artifacts/c3bb83fb7eea2f7829672d0cb9d9b5a0306b8354/tectonic\u001b[24m \u001b[4mPublish.tex\u001b[24m`, ProcessExited(0))"
      ]
     },
     "execution_count": 5,
     "metadata": {},
     "output_type": "execute_result"
    }
   ],
   "source": [
    "pdf(Publish)"
   ]
  },
  {
   "cell_type": "markdown",
   "metadata": {},
   "source": [
    "You probably want to use [`serve`](#) instead though, since that'll spin up a web-server to host your project locally and allow you to view changes in real-time."
   ]
  },
  {
   "cell_type": "code",
   "execution_count": null,
   "metadata": {},
   "outputs": [],
   "source": [
    "serve(Publish, html, pdf)"
   ]
  },
  {
   "cell_type": "markdown",
   "metadata": {},
   "source": [
    "## Deploying Projects\n",
    "\n",
    "We usually don't build our projects in isolation and want others to be able to view our results. For this you can use [`deploy`](#). This function will build your project in the provided directory in a versioned subdirectory."
   ]
  },
  {
   "cell_type": "code",
   "execution_count": 7,
   "metadata": {},
   "outputs": [],
   "source": [
    "deploy(Publish, \"build\")"
   ]
  }
 ],
 "metadata": {
  "kernelspec": {
   "display_name": "Julia 1.4.2",
   "language": "julia",
   "name": "julia-1.4"
  },
  "language_info": {
   "file_extension": ".jl",
   "mimetype": "application/julia",
   "name": "julia",
   "version": "1.5.1"
  }
 },
 "nbformat": 4,
 "nbformat_minor": 4
}
